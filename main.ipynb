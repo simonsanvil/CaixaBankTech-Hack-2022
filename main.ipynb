{
 "cells": [
  {
   "cell_type": "markdown",
   "metadata": {},
   "source": [
    "## Modelizacion Predictiva del IBEX35\n",
    "\n",
    "El IBEX 35 es el índice oficial de la bolsa española compuesto por las 35 empresas más negociadas del mercado. Este índice nos muestra en tiempo real si los precios en bolsa están subiendo o bajando, por lo que permite medir el comportamiento de este conjunto de acciones.\n",
    "\n",
    "El IBEX35 sirve como punto de referencia para los inversores del mercado español. La rentabilidad de este índice es el objetivo a batir por los gestores.\n",
    "\n",
    "Por lo tanto, la modelización de las dinámicas de este tipo de índices resultan esenciales para la toma de decisiones por parte de todas las entidades bursátiles."
   ]
  },
  {
   "cell_type": "markdown",
   "metadata": {},
   "source": [
    "**Las variables predictoras que se presentan son:**\n",
    "\n",
    "- Date: Día al que hacen referencia los datos presentados.\n",
    "- Open: Precio de apertura de ese día.\n",
    "- High: Precio máximo alcanzado durante ese día.\n",
    "- Low: Precio mínimo alcanzado durante ese día.\n",
    "- Close: Precio de cierre de ese día ajustado por splits.\n",
    "- Adj Close: Precio de cierre ajustado por splits y distribuciones de dividendos o plusvalías.\n",
    "- Volume: El número físico de acciones negociadas del índice bursátil.\n",
    "\n",
    "La variable objetivo:\n",
    "\n",
    "**Target**: Esta es la variable a predecir. Es una variable binaria.\n",
    "\n",
    "- 1: Indica que el precio de cierre tres días adelante será más alto que el precio de cierre actual.\n",
    "- 0: Indica que el precio de cierre tres días adelante será igual o menor al precio actual."
   ]
  },
  {
   "cell_type": "code",
   "execution_count": 1,
   "metadata": {},
   "outputs": [],
   "source": [
    "import pandas as pd\n",
    "import numpy as np\n",
    "import shap\n",
    "from sklearn.metrics import f1_score\n",
    "from sklearn.ensemble import RandomForestClassifier\n",
    "from lightgbm import LGBMClassifier"
   ]
  },
  {
   "cell_type": "code",
   "execution_count": null,
   "metadata": {},
   "outputs": [],
   "source": [
    "!python -m spacy download es_core_news_md"
   ]
  },
  {
   "cell_type": "markdown",
   "metadata": {},
   "source": [
    "Cargar la serie de tiempo para modelar los datos:"
   ]
  },
  {
   "cell_type": "code",
   "execution_count": 5,
   "metadata": {},
   "outputs": [
    {
     "data": {
      "text/html": [
       "<div>\n",
       "<style scoped>\n",
       "    .dataframe tbody tr th:only-of-type {\n",
       "        vertical-align: middle;\n",
       "    }\n",
       "\n",
       "    .dataframe tbody tr th {\n",
       "        vertical-align: top;\n",
       "    }\n",
       "\n",
       "    .dataframe thead th {\n",
       "        text-align: right;\n",
       "    }\n",
       "</style>\n",
       "<table border=\"1\" class=\"dataframe\">\n",
       "  <thead>\n",
       "    <tr style=\"text-align: right;\">\n",
       "      <th></th>\n",
       "      <th>time_step</th>\n",
       "      <th>Open</th>\n",
       "      <th>High</th>\n",
       "      <th>Low</th>\n",
       "      <th>Close</th>\n",
       "      <th>Adj Close</th>\n",
       "      <th>Volume</th>\n",
       "      <th>Target</th>\n",
       "    </tr>\n",
       "    <tr>\n",
       "      <th>date</th>\n",
       "      <th></th>\n",
       "      <th></th>\n",
       "      <th></th>\n",
       "      <th></th>\n",
       "      <th></th>\n",
       "      <th></th>\n",
       "      <th></th>\n",
       "      <th></th>\n",
       "    </tr>\n",
       "  </thead>\n",
       "  <tbody>\n",
       "    <tr>\n",
       "      <th>1994-01-03</th>\n",
       "      <td>0.0</td>\n",
       "      <td>3615.199951</td>\n",
       "      <td>3654.699951</td>\n",
       "      <td>3581.000000</td>\n",
       "      <td>3654.500000</td>\n",
       "      <td>3654.496338</td>\n",
       "      <td>0.0</td>\n",
       "      <td>0.0</td>\n",
       "    </tr>\n",
       "    <tr>\n",
       "      <th>1994-01-04</th>\n",
       "      <td>1.0</td>\n",
       "      <td>3654.500000</td>\n",
       "      <td>3675.500000</td>\n",
       "      <td>3625.100098</td>\n",
       "      <td>3630.300049</td>\n",
       "      <td>3630.296387</td>\n",
       "      <td>0.0</td>\n",
       "      <td>1.0</td>\n",
       "    </tr>\n",
       "    <tr>\n",
       "      <th>1994-01-05</th>\n",
       "      <td>2.0</td>\n",
       "      <td>3625.199951</td>\n",
       "      <td>3625.199951</td>\n",
       "      <td>3583.399902</td>\n",
       "      <td>3621.199951</td>\n",
       "      <td>3621.196289</td>\n",
       "      <td>0.0</td>\n",
       "      <td>1.0</td>\n",
       "    </tr>\n",
       "    <tr>\n",
       "      <th>1994-01-07</th>\n",
       "      <td>4.0</td>\n",
       "      <td>3621.199951</td>\n",
       "      <td>3644.399902</td>\n",
       "      <td>3598.699951</td>\n",
       "      <td>3636.399902</td>\n",
       "      <td>3636.396240</td>\n",
       "      <td>0.0</td>\n",
       "      <td>1.0</td>\n",
       "    </tr>\n",
       "    <tr>\n",
       "      <th>1994-01-10</th>\n",
       "      <td>5.0</td>\n",
       "      <td>3655.199951</td>\n",
       "      <td>3678.199951</td>\n",
       "      <td>3655.199951</td>\n",
       "      <td>3660.600098</td>\n",
       "      <td>3660.596436</td>\n",
       "      <td>0.0</td>\n",
       "      <td>1.0</td>\n",
       "    </tr>\n",
       "    <tr>\n",
       "      <th>...</th>\n",
       "      <td>...</td>\n",
       "      <td>...</td>\n",
       "      <td>...</td>\n",
       "      <td>...</td>\n",
       "      <td>...</td>\n",
       "      <td>...</td>\n",
       "      <td>...</td>\n",
       "      <td>...</td>\n",
       "    </tr>\n",
       "    <tr>\n",
       "      <th>2019-05-24</th>\n",
       "      <td>6549.0</td>\n",
       "      <td>9150.299805</td>\n",
       "      <td>9211.099609</td>\n",
       "      <td>9141.400391</td>\n",
       "      <td>9174.599609</td>\n",
       "      <td>9174.599609</td>\n",
       "      <td>121673100.0</td>\n",
       "      <td>0.0</td>\n",
       "    </tr>\n",
       "    <tr>\n",
       "      <th>2019-05-27</th>\n",
       "      <td>6550.0</td>\n",
       "      <td>9225.900391</td>\n",
       "      <td>9294.599609</td>\n",
       "      <td>9204.700195</td>\n",
       "      <td>9216.400391</td>\n",
       "      <td>9216.400391</td>\n",
       "      <td>60178000.0</td>\n",
       "      <td>0.0</td>\n",
       "    </tr>\n",
       "    <tr>\n",
       "      <th>2019-05-28</th>\n",
       "      <td>6551.0</td>\n",
       "      <td>9220.400391</td>\n",
       "      <td>9224.900391</td>\n",
       "      <td>9132.900391</td>\n",
       "      <td>9191.799805</td>\n",
       "      <td>9191.799805</td>\n",
       "      <td>218900800.0</td>\n",
       "      <td>0.0</td>\n",
       "    </tr>\n",
       "    <tr>\n",
       "      <th>2019-05-29</th>\n",
       "      <td>6552.0</td>\n",
       "      <td>9113.200195</td>\n",
       "      <td>9116.700195</td>\n",
       "      <td>9035.099609</td>\n",
       "      <td>9080.500000</td>\n",
       "      <td>9080.500000</td>\n",
       "      <td>148987100.0</td>\n",
       "      <td>0.0</td>\n",
       "    </tr>\n",
       "    <tr>\n",
       "      <th>2019-05-30</th>\n",
       "      <td>6553.0</td>\n",
       "      <td>9120.799805</td>\n",
       "      <td>9175.200195</td>\n",
       "      <td>9114.099609</td>\n",
       "      <td>9157.799805</td>\n",
       "      <td>9157.799805</td>\n",
       "      <td>101389200.0</td>\n",
       "      <td>0.0</td>\n",
       "    </tr>\n",
       "  </tbody>\n",
       "</table>\n",
       "<p>6421 rows × 8 columns</p>\n",
       "</div>"
      ],
      "text/plain": [
       "            time_step         Open         High          Low        Close  \\\n",
       "date                                                                        \n",
       "1994-01-03        0.0  3615.199951  3654.699951  3581.000000  3654.500000   \n",
       "1994-01-04        1.0  3654.500000  3675.500000  3625.100098  3630.300049   \n",
       "1994-01-05        2.0  3625.199951  3625.199951  3583.399902  3621.199951   \n",
       "1994-01-07        4.0  3621.199951  3644.399902  3598.699951  3636.399902   \n",
       "1994-01-10        5.0  3655.199951  3678.199951  3655.199951  3660.600098   \n",
       "...               ...          ...          ...          ...          ...   \n",
       "2019-05-24     6549.0  9150.299805  9211.099609  9141.400391  9174.599609   \n",
       "2019-05-27     6550.0  9225.900391  9294.599609  9204.700195  9216.400391   \n",
       "2019-05-28     6551.0  9220.400391  9224.900391  9132.900391  9191.799805   \n",
       "2019-05-29     6552.0  9113.200195  9116.700195  9035.099609  9080.500000   \n",
       "2019-05-30     6553.0  9120.799805  9175.200195  9114.099609  9157.799805   \n",
       "\n",
       "              Adj Close       Volume  Target  \n",
       "date                                          \n",
       "1994-01-03  3654.496338          0.0     0.0  \n",
       "1994-01-04  3630.296387          0.0     1.0  \n",
       "1994-01-05  3621.196289          0.0     1.0  \n",
       "1994-01-07  3636.396240          0.0     1.0  \n",
       "1994-01-10  3660.596436          0.0     1.0  \n",
       "...                 ...          ...     ...  \n",
       "2019-05-24  9174.599609  121673100.0     0.0  \n",
       "2019-05-27  9216.400391   60178000.0     0.0  \n",
       "2019-05-28  9191.799805  218900800.0     0.0  \n",
       "2019-05-29  9080.500000  148987100.0     0.0  \n",
       "2019-05-30  9157.799805  101389200.0     0.0  \n",
       "\n",
       "[6421 rows x 8 columns]"
      ]
     },
     "execution_count": 5,
     "metadata": {},
     "output_type": "execute_result"
    }
   ],
   "source": [
    "data = (\n",
    "    pd.read_csv('data/train.csv')\n",
    "    .astype({\"Date\": \"datetime64[ns]\"})\n",
    "    .sort_values(by=[\"Date\"])\n",
    "    .reset_index()\n",
    "    .rename(columns={\"index\": \"time_step\", \"Date\":\"date\"})\n",
    "    .set_index(\"date\")\n",
    "    .resample(\"D\").mean() # ya esta por dia pero hacemos esto para que no haya problemas con los indices\n",
    "    .dropna()\n",
    ")\n",
    "data"
   ]
  },
  {
   "cell_type": "markdown",
   "metadata": {},
   "source": [
    "Cargar los datos de Tweets"
   ]
  },
  {
   "cell_type": "code",
   "execution_count": 6,
   "metadata": {},
   "outputs": [
    {
     "data": {
      "text/html": [
       "<div>\n",
       "<style scoped>\n",
       "    .dataframe tbody tr th:only-of-type {\n",
       "        vertical-align: middle;\n",
       "    }\n",
       "\n",
       "    .dataframe tbody tr th {\n",
       "        vertical-align: top;\n",
       "    }\n",
       "\n",
       "    .dataframe thead th {\n",
       "        text-align: right;\n",
       "    }\n",
       "</style>\n",
       "<table border=\"1\" class=\"dataframe\">\n",
       "  <thead>\n",
       "    <tr style=\"text-align: right;\">\n",
       "      <th></th>\n",
       "      <th>tweetDate</th>\n",
       "      <th>handle</th>\n",
       "      <th>text</th>\n",
       "    </tr>\n",
       "    <tr>\n",
       "      <th>date</th>\n",
       "      <th></th>\n",
       "      <th></th>\n",
       "      <th></th>\n",
       "    </tr>\n",
       "  </thead>\n",
       "  <tbody>\n",
       "    <tr>\n",
       "      <th>2022-04-09 14:47:45</th>\n",
       "      <td>2022-04-09 14:47:45</td>\n",
       "      <td>abelac62</td>\n",
       "      <td>He hecho el repaso de todos los componentes de...</td>\n",
       "    </tr>\n",
       "    <tr>\n",
       "      <th>2022-04-07 19:14:36</th>\n",
       "      <td>2022-04-07 19:14:36</td>\n",
       "      <td>LluisPerarnau</td>\n",
       "      <td>Els projectes que han presentat les empreses d...</td>\n",
       "    </tr>\n",
       "    <tr>\n",
       "      <th>2022-04-04 16:48:45</th>\n",
       "      <td>2022-04-04 16:48:45</td>\n",
       "      <td>Pegaso121080</td>\n",
       "      <td>Por si no lo has visto, o no lo encuentras en ...</td>\n",
       "    </tr>\n",
       "    <tr>\n",
       "      <th>2022-04-05 07:23:16</th>\n",
       "      <td>2022-04-05 07:23:16</td>\n",
       "      <td>zonavalue</td>\n",
       "      <td>📈 #BOLSA: El #Ibex35 abre en 🟢 \\n\\n🇪🇸 #Ibex35 ...</td>\n",
       "    </tr>\n",
       "    <tr>\n",
       "      <th>2022-03-31 16:07:43</th>\n",
       "      <td>2022-03-31 16:07:43</td>\n",
       "      <td>EPeconomia</td>\n",
       "      <td>El #Ibex35 retrocede un 0,4% en marzo y un 3,0...</td>\n",
       "    </tr>\n",
       "    <tr>\n",
       "      <th>...</th>\n",
       "      <td>...</td>\n",
       "      <td>...</td>\n",
       "      <td>...</td>\n",
       "    </tr>\n",
       "    <tr>\n",
       "      <th>2015-01-08 16:41:36</th>\n",
       "      <td>2015-01-08 16:41:36</td>\n",
       "      <td>elEconomistaes</td>\n",
       "      <td>#Cierre | El #Ibex35 sube un 2,26% hasta los 1...</td>\n",
       "    </tr>\n",
       "    <tr>\n",
       "      <th>2015-01-03 17:20:30</th>\n",
       "      <td>2015-01-03 17:20:30</td>\n",
       "      <td>Roger_bolsa</td>\n",
       "      <td>Un vistazo a los #Bluechips del #Ibex #Ibex35....</td>\n",
       "    </tr>\n",
       "    <tr>\n",
       "      <th>2015-01-10 19:42:45</th>\n",
       "      <td>2015-01-10 19:42:45</td>\n",
       "      <td>Secretosdebolsa</td>\n",
       "      <td>Así comienza la #Bolsa en #2015 Ojo a los sopo...</td>\n",
       "    </tr>\n",
       "    <tr>\n",
       "      <th>2015-01-10 21:47:17</th>\n",
       "      <td>2015-01-10 21:47:17</td>\n",
       "      <td>Roger_bolsa</td>\n",
       "      <td>Análisis del #BancoSantander #Santander #SAN t...</td>\n",
       "    </tr>\n",
       "    <tr>\n",
       "      <th>2015-01-05 15:06:49</th>\n",
       "      <td>2015-01-05 15:06:49</td>\n",
       "      <td>elEconomistaes</td>\n",
       "      <td>El #Ibex35 profundiza en su caída (-2,8%) y pi...</td>\n",
       "    </tr>\n",
       "  </tbody>\n",
       "</table>\n",
       "<p>9793 rows × 3 columns</p>\n",
       "</div>"
      ],
      "text/plain": [
       "                              tweetDate           handle  \\\n",
       "date                                                       \n",
       "2022-04-09 14:47:45 2022-04-09 14:47:45         abelac62   \n",
       "2022-04-07 19:14:36 2022-04-07 19:14:36    LluisPerarnau   \n",
       "2022-04-04 16:48:45 2022-04-04 16:48:45     Pegaso121080   \n",
       "2022-04-05 07:23:16 2022-04-05 07:23:16        zonavalue   \n",
       "2022-03-31 16:07:43 2022-03-31 16:07:43       EPeconomia   \n",
       "...                                 ...              ...   \n",
       "2015-01-08 16:41:36 2015-01-08 16:41:36   elEconomistaes   \n",
       "2015-01-03 17:20:30 2015-01-03 17:20:30      Roger_bolsa   \n",
       "2015-01-10 19:42:45 2015-01-10 19:42:45  Secretosdebolsa   \n",
       "2015-01-10 21:47:17 2015-01-10 21:47:17      Roger_bolsa   \n",
       "2015-01-05 15:06:49 2015-01-05 15:06:49   elEconomistaes   \n",
       "\n",
       "                                                                  text  \n",
       "date                                                                    \n",
       "2022-04-09 14:47:45  He hecho el repaso de todos los componentes de...  \n",
       "2022-04-07 19:14:36  Els projectes que han presentat les empreses d...  \n",
       "2022-04-04 16:48:45  Por si no lo has visto, o no lo encuentras en ...  \n",
       "2022-04-05 07:23:16  📈 #BOLSA: El #Ibex35 abre en 🟢 \\n\\n🇪🇸 #Ibex35 ...  \n",
       "2022-03-31 16:07:43  El #Ibex35 retrocede un 0,4% en marzo y un 3,0...  \n",
       "...                                                                ...  \n",
       "2015-01-08 16:41:36  #Cierre | El #Ibex35 sube un 2,26% hasta los 1...  \n",
       "2015-01-03 17:20:30  Un vistazo a los #Bluechips del #Ibex #Ibex35....  \n",
       "2015-01-10 19:42:45  Así comienza la #Bolsa en #2015 Ojo a los sopo...  \n",
       "2015-01-10 21:47:17  Análisis del #BancoSantander #Santander #SAN t...  \n",
       "2015-01-05 15:06:49  El #Ibex35 profundiza en su caída (-2,8%) y pi...  \n",
       "\n",
       "[9793 rows x 3 columns]"
      ]
     },
     "execution_count": 6,
     "metadata": {},
     "output_type": "execute_result"
    }
   ],
   "source": [
    "tweets_df = (\n",
    "    pd.read_csv('data/tweets_from2015_#Ibex35.csv')\n",
    "    .assign(tweetDate=lambda x: pd.to_datetime(x['tweetDate'], format='%a %b %d %H:%M:%S +0000 %Y',errors='coerce'))\n",
    "    .dropna()\n",
    "    # .drop(columns=\"handle\") # el nombre de perfil de usuario es irrelevante\n",
    "    .assign(date=lambda x: x['tweetDate'])\n",
    "    .set_index(\"date\")\n",
    ")\n",
    "tweets_df"
   ]
  },
  {
   "cell_type": "markdown",
   "metadata": {},
   "source": [
    "### Modelar sin Tweets:"
   ]
  },
  {
   "cell_type": "code",
   "execution_count": 7,
   "metadata": {},
   "outputs": [],
   "source": [
    "# hacer corte de entrenamiento y testeo que tome el ultimo 15% de los datos\n",
    "cutoff_point = data.iloc[-int(len(data) * 0.15)].time_step\n",
    "train_df, test_df = data[data.time_step < cutoff_point], data[data.time_step >= cutoff_point]\n",
    "X_train, y_train = train_df.drop(columns=\"Target\"), train_df.Target\n",
    "X_test, y_test = test_df.drop(columns=\"Target\"), test_df.Target"
   ]
  },
  {
   "cell_type": "markdown",
   "metadata": {},
   "source": [
    "Se usa el modelo de gradient-boosting `lightgbm` para modelar los datos"
   ]
  },
  {
   "cell_type": "code",
   "execution_count": 8,
   "metadata": {},
   "outputs": [],
   "source": [
    "mod = LGBMClassifier(\n",
    "    n_estimators=500,\n",
    "    learning_rate=0.05,\n",
    "    num_leaves=32,\n",
    "    colsample_bytree=0.8,\n",
    "    subsample=0.8,\n",
    "    max_depth=7,\n",
    "    random_state=42,\n",
    ")"
   ]
  },
  {
   "cell_type": "code",
   "execution_count": 10,
   "metadata": {},
   "outputs": [
    {
     "name": "stdout",
     "output_type": "stream",
     "text": [
      "F1 score: 0.419\n"
     ]
    }
   ],
   "source": [
    "# entrenar y evaluar sin variables extra\n",
    "mod.fit(X_train, y_train)\n",
    "preds = mod.predict(X_test)\n",
    "print(f\"F1 score: {f1_score(y_test, preds):.3f}\")"
   ]
  },
  {
   "cell_type": "markdown",
   "metadata": {},
   "source": [
    "Haciendo extraccion de features temporales (rolling, lag, etc)"
   ]
  },
  {
   "cell_type": "code",
   "execution_count": 11,
   "metadata": {},
   "outputs": [
    {
     "name": "stdout",
     "output_type": "stream",
     "text": [
      "Numero de features: 21\n",
      "F1 score: 0.556\n"
     ]
    }
   ],
   "source": [
    "# con variables extra\n",
    "from src import features\n",
    "feature_cols = [\"Open\"]\n",
    "features_args = dict(num_lags=3, roll_nums=(7,15,30))\n",
    "filter = \"^((?!Volume.*).)*$\"\n",
    "train_features = features.make_features(X_train, feature_cols, **features_args).filter(regex=filter)\n",
    "test_features = features.make_features(X_test, feature_cols, **features_args).filter(regex=filter)\n",
    "print(\"Numero de features:\", train_features.shape[1])\n",
    "\n",
    "mod.fit(train_features, y_train.loc[train_features.index])\n",
    "preds = mod.predict(test_features)\n",
    "print(f\"F1 score: {f1_score(y_test.loc[test_features.index], preds):.3f}\")"
   ]
  },
  {
   "cell_type": "code",
   "execution_count": 12,
   "metadata": {},
   "outputs": [
    {
     "name": "stderr",
     "output_type": "stream",
     "text": [
      "LightGBM binary classifier with TreeExplainer shap values output has changed to a list of ndarray\n"
     ]
    },
    {
     "data": {
      "image/png": "[encoded data removed]",
      "text/plain": [
       "<Figure size 576x684 with 1 Axes>"
      ]
     },
     "metadata": {
      "needs_background": "light"
     },
     "output_type": "display_data"
    }
   ],
   "source": [
    "# importancia de cada variable con shap\n",
    "shap_values = shap.TreeExplainer(mod).shap_values(test_features)\n",
    "shap.summary_plot(shap_values, test_features)"
   ]
  },
  {
   "cell_type": "markdown",
   "metadata": {},
   "source": [
    "----"
   ]
  },
  {
   "cell_type": "markdown",
   "metadata": {},
   "source": [
    "### Incorporando Tweets\n",
    "\n",
    "Se usa spacy para añadir los word embeddings de tweets como variables predictoras adicionales."
   ]
  },
  {
   "cell_type": "code",
   "execution_count": 14,
   "metadata": {},
   "outputs": [
    {
     "data": {
      "text/html": [
       "<div>\n",
       "<style scoped>\n",
       "    .dataframe tbody tr th:only-of-type {\n",
       "        vertical-align: middle;\n",
       "    }\n",
       "\n",
       "    .dataframe tbody tr th {\n",
       "        vertical-align: top;\n",
       "    }\n",
       "\n",
       "    .dataframe thead th {\n",
       "        text-align: right;\n",
       "    }\n",
       "</style>\n",
       "<table border=\"1\" class=\"dataframe\">\n",
       "  <thead>\n",
       "    <tr style=\"text-align: right;\">\n",
       "      <th></th>\n",
       "      <th>text</th>\n",
       "      <th>num_tweets</th>\n",
       "    </tr>\n",
       "    <tr>\n",
       "      <th>date</th>\n",
       "      <th></th>\n",
       "      <th></th>\n",
       "    </tr>\n",
       "  </thead>\n",
       "  <tbody>\n",
       "    <tr>\n",
       "      <th>2015-01-03</th>\n",
       "      <td>un vistazo a los #bluechips del #ibex #ibex35....</td>\n",
       "      <td>1</td>\n",
       "    </tr>\n",
       "    <tr>\n",
       "      <th>2015-01-04</th>\n",
       "      <td>.@monicamelle escasamente entusiasta sobre el ...</td>\n",
       "      <td>1</td>\n",
       "    </tr>\n",
       "    <tr>\n",
       "      <th>2015-01-05</th>\n",
       "      <td>tras un arranque en negativo, el #ibex35 retom...</td>\n",
       "      <td>5</td>\n",
       "    </tr>\n",
       "    <tr>\n",
       "      <th>2015-01-06</th>\n",
       "      <td>tomad capitalismo! #españa los dueños del #ibe...</td>\n",
       "      <td>3</td>\n",
       "    </tr>\n",
       "    <tr>\n",
       "      <th>2015-01-07</th>\n",
       "      <td>el #ibex35 rebota el 1,5% y toca los 10.000 pu...</td>\n",
       "      <td>1</td>\n",
       "    </tr>\n",
       "    <tr>\n",
       "      <th>...</th>\n",
       "      <td>...</td>\n",
       "      <td>...</td>\n",
       "    </tr>\n",
       "    <tr>\n",
       "      <th>2022-04-05</th>\n",
       "      <td>📈 #bolsa: el #ibex35 abre en 🟢 \\n\\n🇪🇸 #ibex35 ...</td>\n",
       "      <td>2</td>\n",
       "    </tr>\n",
       "    <tr>\n",
       "      <th>2022-04-06</th>\n",
       "      <td>#ibex35 recorte dentro de lo admisible, canal ...</td>\n",
       "      <td>1</td>\n",
       "    </tr>\n",
       "    <tr>\n",
       "      <th>2022-04-07</th>\n",
       "      <td>⚠️a pesar de la crisis y la pandemia,  un 40% ...</td>\n",
       "      <td>4</td>\n",
       "    </tr>\n",
       "    <tr>\n",
       "      <th>2022-04-08</th>\n",
       "      <td>repetimos un año más como la mejor compañía de...</td>\n",
       "      <td>2</td>\n",
       "    </tr>\n",
       "    <tr>\n",
       "      <th>2022-04-09</th>\n",
       "      <td>💶¿quiénes \"se forraron\" en 2021, en medio de l...</td>\n",
       "      <td>2</td>\n",
       "    </tr>\n",
       "  </tbody>\n",
       "</table>\n",
       "<p>2654 rows × 2 columns</p>\n",
       "</div>"
      ],
      "text/plain": [
       "                                                         text  num_tweets\n",
       "date                                                                     \n",
       "2015-01-03  un vistazo a los #bluechips del #ibex #ibex35....           1\n",
       "2015-01-04  .@monicamelle escasamente entusiasta sobre el ...           1\n",
       "2015-01-05  tras un arranque en negativo, el #ibex35 retom...           5\n",
       "2015-01-06  tomad capitalismo! #españa los dueños del #ibe...           3\n",
       "2015-01-07  el #ibex35 rebota el 1,5% y toca los 10.000 pu...           1\n",
       "...                                                       ...         ...\n",
       "2022-04-05  📈 #bolsa: el #ibex35 abre en 🟢 \\n\\n🇪🇸 #ibex35 ...           2\n",
       "2022-04-06  #ibex35 recorte dentro de lo admisible, canal ...           1\n",
       "2022-04-07  ⚠️a pesar de la crisis y la pandemia,  un 40% ...           4\n",
       "2022-04-08  repetimos un año más como la mejor compañía de...           2\n",
       "2022-04-09  💶¿quiénes \"se forraron\" en 2021, en medio de l...           2\n",
       "\n",
       "[2654 rows x 2 columns]"
      ]
     },
     "execution_count": 14,
     "metadata": {},
     "output_type": "execute_result"
    }
   ],
   "source": [
    "import spacy\n",
    "from termcolor import colored\n",
    "from sklearn.decomposition import PCA\n",
    "import src.text_processing as text\n",
    "# juntamos todos los tweets por el dia en que fueron publicados\n",
    "tweets_per_day = tweets_df[[\"text\"]].resample(\"D\").agg(lambda x: ' '.join(x).lower())\n",
    "tweets_per_day[\"num_tweets\"] = tweets_df[[\"text\"]].resample(\"D\").size()\n",
    "tweets_per_day"
   ]
  },
  {
   "cell_type": "code",
   "execution_count": 15,
   "metadata": {},
   "outputs": [
    {
     "name": "stdout",
     "output_type": "stream",
     "text": [
      "Tweet antes de procesar:\n",
      "\u001b[34m💶¿quiénes \"se forraron\" en 2021, en medio de la gran crisis sanitaria, económica y social?: \n",
      "💲las petroleras, las eléctricas y las gasísticas\n",
      "👎@manolomarrerom:\"las seis empresas energéticas del #ibex35 ganaron en 2021 un total de 10.117 millones de euros.eso es una obscenidad\" https://t.co/ys6ydjimby he hecho el repaso de todos los componentes del #ibex35 y ahora me pongo con lo de la chiqui. si mañana tengo tiempo, publicaré algún activo interesante del mercado europeo y americano. buen fin de semana.\u001b[0m\n",
      "Tweet despues de procesar:\n",
      "\u001b[32mforrar crisis sanitario económico social petrolera eléctrico gasística empresa energético ganar millón obscenidad repaso componente poner chiqui tiempo publicar activo interesante mercado europeo americano semana\u001b[0m\n"
     ]
    }
   ],
   "source": [
    "# preprocesamiento de los tweets (eliminamos stopwords, tokenizamos, etc)\n",
    "nlp = spacy.load('es_core_news_md')\n",
    "valid_POS = set(['VERB', 'NOUN', 'ADJ', 'PROPN'])\n",
    "\n",
    "tweets_per_day[\"processed\"] = (\n",
    "    tweets_per_day.text\n",
    "    .pipe(text.tokenize, nlp)\n",
    "    .pipe(text.drop_symbols)\n",
    "    .pipe(text.drop_stopwords)\n",
    "    .pipe(text.filter_pos, valid_POS)\n",
    "    .pipe(text.lemmatize)\n",
    "    .pipe(text.tokenize, nlp)\n",
    ")\n",
    "\n",
    "# ejemplo de procesado de texto\n",
    "print(f\"Tweet antes de procesar:\\n{colored(tweets_per_day.text.iloc[-1],'blue')}\")\n",
    "print(f\"Tweet despues de procesar:\\n{colored(tweets_per_day.processed.iloc[-1],'green')}\")\n"
   ]
  },
  {
   "cell_type": "code",
   "execution_count": 54,
   "metadata": {},
   "outputs": [
    {
     "name": "stdout",
     "output_type": "stream",
     "text": [
      "10 componentes principales explican 61.73% de la varianza de los word-embeddings\n"
     ]
    },
    {
     "data": {
      "text/html": [
       "<div>\n",
       "<style scoped>\n",
       "    .dataframe tbody tr th:only-of-type {\n",
       "        vertical-align: middle;\n",
       "    }\n",
       "\n",
       "    .dataframe tbody tr th {\n",
       "        vertical-align: top;\n",
       "    }\n",
       "\n",
       "    .dataframe thead th {\n",
       "        text-align: right;\n",
       "    }\n",
       "</style>\n",
       "<table border=\"1\" class=\"dataframe\">\n",
       "  <thead>\n",
       "    <tr style=\"text-align: right;\">\n",
       "      <th></th>\n",
       "      <th>tweet_embed_1</th>\n",
       "      <th>tweet_embed_2</th>\n",
       "      <th>tweet_embed_3</th>\n",
       "      <th>tweet_embed_4</th>\n",
       "      <th>tweet_embed_5</th>\n",
       "      <th>tweet_embed_6</th>\n",
       "      <th>tweet_embed_7</th>\n",
       "      <th>tweet_embed_8</th>\n",
       "      <th>tweet_embed_9</th>\n",
       "      <th>tweet_embed_10</th>\n",
       "    </tr>\n",
       "    <tr>\n",
       "      <th>date</th>\n",
       "      <th></th>\n",
       "      <th></th>\n",
       "      <th></th>\n",
       "      <th></th>\n",
       "      <th></th>\n",
       "      <th></th>\n",
       "      <th></th>\n",
       "      <th></th>\n",
       "      <th></th>\n",
       "      <th></th>\n",
       "    </tr>\n",
       "  </thead>\n",
       "  <tbody>\n",
       "    <tr>\n",
       "      <th>2015-01-03</th>\n",
       "      <td>0.470104</td>\n",
       "      <td>7.263266</td>\n",
       "      <td>1.212202</td>\n",
       "      <td>1.470478</td>\n",
       "      <td>-2.522190</td>\n",
       "      <td>-0.044917</td>\n",
       "      <td>-0.782136</td>\n",
       "      <td>2.139297</td>\n",
       "      <td>-1.393850</td>\n",
       "      <td>-0.481136</td>\n",
       "    </tr>\n",
       "    <tr>\n",
       "      <th>2015-01-04</th>\n",
       "      <td>-4.822864</td>\n",
       "      <td>-1.157155</td>\n",
       "      <td>-4.787719</td>\n",
       "      <td>-2.749020</td>\n",
       "      <td>-0.716836</td>\n",
       "      <td>-1.368823</td>\n",
       "      <td>2.090041</td>\n",
       "      <td>-0.079291</td>\n",
       "      <td>-1.919087</td>\n",
       "      <td>1.674568</td>\n",
       "    </tr>\n",
       "    <tr>\n",
       "      <th>2015-01-05</th>\n",
       "      <td>-4.662891</td>\n",
       "      <td>-1.135178</td>\n",
       "      <td>1.849361</td>\n",
       "      <td>-2.740112</td>\n",
       "      <td>2.925275</td>\n",
       "      <td>0.445988</td>\n",
       "      <td>-0.709622</td>\n",
       "      <td>0.292815</td>\n",
       "      <td>0.180277</td>\n",
       "      <td>-1.300653</td>\n",
       "    </tr>\n",
       "    <tr>\n",
       "      <th>2015-01-06</th>\n",
       "      <td>-0.774262</td>\n",
       "      <td>-1.590158</td>\n",
       "      <td>2.463738</td>\n",
       "      <td>-1.070516</td>\n",
       "      <td>2.419477</td>\n",
       "      <td>3.180981</td>\n",
       "      <td>0.701007</td>\n",
       "      <td>-2.426113</td>\n",
       "      <td>-0.335522</td>\n",
       "      <td>0.395181</td>\n",
       "    </tr>\n",
       "    <tr>\n",
       "      <th>2015-01-07</th>\n",
       "      <td>0.254174</td>\n",
       "      <td>-6.457656</td>\n",
       "      <td>6.478698</td>\n",
       "      <td>1.788517</td>\n",
       "      <td>1.150227</td>\n",
       "      <td>-4.142327</td>\n",
       "      <td>-2.256922</td>\n",
       "      <td>0.258743</td>\n",
       "      <td>0.336120</td>\n",
       "      <td>-1.160732</td>\n",
       "    </tr>\n",
       "    <tr>\n",
       "      <th>...</th>\n",
       "      <td>...</td>\n",
       "      <td>...</td>\n",
       "      <td>...</td>\n",
       "      <td>...</td>\n",
       "      <td>...</td>\n",
       "      <td>...</td>\n",
       "      <td>...</td>\n",
       "      <td>...</td>\n",
       "      <td>...</td>\n",
       "      <td>...</td>\n",
       "    </tr>\n",
       "    <tr>\n",
       "      <th>2022-04-05</th>\n",
       "      <td>-4.698101</td>\n",
       "      <td>-0.226461</td>\n",
       "      <td>4.218924</td>\n",
       "      <td>0.749429</td>\n",
       "      <td>-0.212645</td>\n",
       "      <td>0.405166</td>\n",
       "      <td>-1.560254</td>\n",
       "      <td>-0.175672</td>\n",
       "      <td>-0.364285</td>\n",
       "      <td>1.062407</td>\n",
       "    </tr>\n",
       "    <tr>\n",
       "      <th>2022-04-06</th>\n",
       "      <td>-6.029510</td>\n",
       "      <td>-0.341921</td>\n",
       "      <td>0.287270</td>\n",
       "      <td>-3.720592</td>\n",
       "      <td>2.488770</td>\n",
       "      <td>-0.749909</td>\n",
       "      <td>-0.115492</td>\n",
       "      <td>-0.197408</td>\n",
       "      <td>-0.099122</td>\n",
       "      <td>-0.946593</td>\n",
       "    </tr>\n",
       "    <tr>\n",
       "      <th>2022-04-07</th>\n",
       "      <td>0.241657</td>\n",
       "      <td>3.482694</td>\n",
       "      <td>-1.671106</td>\n",
       "      <td>1.618514</td>\n",
       "      <td>5.994866</td>\n",
       "      <td>-1.098094</td>\n",
       "      <td>0.342078</td>\n",
       "      <td>-0.779168</td>\n",
       "      <td>-0.967932</td>\n",
       "      <td>3.429768</td>\n",
       "    </tr>\n",
       "    <tr>\n",
       "      <th>2022-04-08</th>\n",
       "      <td>-3.211313</td>\n",
       "      <td>-2.537434</td>\n",
       "      <td>2.538787</td>\n",
       "      <td>-1.147461</td>\n",
       "      <td>0.456329</td>\n",
       "      <td>2.007531</td>\n",
       "      <td>2.175097</td>\n",
       "      <td>0.002063</td>\n",
       "      <td>0.061966</td>\n",
       "      <td>-0.191547</td>\n",
       "    </tr>\n",
       "    <tr>\n",
       "      <th>2022-04-09</th>\n",
       "      <td>-3.575443</td>\n",
       "      <td>-1.138555</td>\n",
       "      <td>-2.289641</td>\n",
       "      <td>-2.245342</td>\n",
       "      <td>0.072028</td>\n",
       "      <td>-0.935023</td>\n",
       "      <td>1.361997</td>\n",
       "      <td>0.126046</td>\n",
       "      <td>-0.601888</td>\n",
       "      <td>0.420703</td>\n",
       "    </tr>\n",
       "  </tbody>\n",
       "</table>\n",
       "<p>2654 rows × 10 columns</p>\n",
       "</div>"
      ],
      "text/plain": [
       "            tweet_embed_1  tweet_embed_2  tweet_embed_3  tweet_embed_4  \\\n",
       "date                                                                     \n",
       "2015-01-03       0.470104       7.263266       1.212202       1.470478   \n",
       "2015-01-04      -4.822864      -1.157155      -4.787719      -2.749020   \n",
       "2015-01-05      -4.662891      -1.135178       1.849361      -2.740112   \n",
       "2015-01-06      -0.774262      -1.590158       2.463738      -1.070516   \n",
       "2015-01-07       0.254174      -6.457656       6.478698       1.788517   \n",
       "...                   ...            ...            ...            ...   \n",
       "2022-04-05      -4.698101      -0.226461       4.218924       0.749429   \n",
       "2022-04-06      -6.029510      -0.341921       0.287270      -3.720592   \n",
       "2022-04-07       0.241657       3.482694      -1.671106       1.618514   \n",
       "2022-04-08      -3.211313      -2.537434       2.538787      -1.147461   \n",
       "2022-04-09      -3.575443      -1.138555      -2.289641      -2.245342   \n",
       "\n",
       "            tweet_embed_5  tweet_embed_6  tweet_embed_7  tweet_embed_8  \\\n",
       "date                                                                     \n",
       "2015-01-03      -2.522190      -0.044917      -0.782136       2.139297   \n",
       "2015-01-04      -0.716836      -1.368823       2.090041      -0.079291   \n",
       "2015-01-05       2.925275       0.445988      -0.709622       0.292815   \n",
       "2015-01-06       2.419477       3.180981       0.701007      -2.426113   \n",
       "2015-01-07       1.150227      -4.142327      -2.256922       0.258743   \n",
       "...                   ...            ...            ...            ...   \n",
       "2022-04-05      -0.212645       0.405166      -1.560254      -0.175672   \n",
       "2022-04-06       2.488770      -0.749909      -0.115492      -0.197408   \n",
       "2022-04-07       5.994866      -1.098094       0.342078      -0.779168   \n",
       "2022-04-08       0.456329       2.007531       2.175097       0.002063   \n",
       "2022-04-09       0.072028      -0.935023       1.361997       0.126046   \n",
       "\n",
       "            tweet_embed_9  tweet_embed_10  \n",
       "date                                       \n",
       "2015-01-03      -1.393850       -0.481136  \n",
       "2015-01-04      -1.919087        1.674568  \n",
       "2015-01-05       0.180277       -1.300653  \n",
       "2015-01-06      -0.335522        0.395181  \n",
       "2015-01-07       0.336120       -1.160732  \n",
       "...                   ...             ...  \n",
       "2022-04-05      -0.364285        1.062407  \n",
       "2022-04-06      -0.099122       -0.946593  \n",
       "2022-04-07      -0.967932        3.429768  \n",
       "2022-04-08       0.061966       -0.191547  \n",
       "2022-04-09      -0.601888        0.420703  \n",
       "\n",
       "[2654 rows x 10 columns]"
      ]
     },
     "execution_count": 54,
     "metadata": {},
     "output_type": "execute_result"
    }
   ],
   "source": [
    "# obtener word embeddings de los tweets de cada día\n",
    "tweet_embeddings = tweets_per_day.processed.apply(lambda doc: doc.vector)\n",
    "# numero de tokens/palabras por dia\n",
    "tweets_per_day[\"num_tokens\"] = tweets_per_day.processed.apply(lambda doc: len(doc))\n",
    "# hacer PCA para reducir el numero de features de los embeddings\n",
    "embeddings_arr = np.stack(tweet_embeddings.values)\n",
    "# solo 10 componentes para añadirlas luego como features\n",
    "pca = PCA(n_components=10)\n",
    "embeddings_arr_pca = pca.fit_transform(embeddings_arr)\n",
    "print(f\"{pca.n_components} componentes principales explican {pca.explained_variance_ratio_.sum()*100:.2f}% de la varianza de los word-embeddings\")\n",
    "embeddings_df = pd.DataFrame(embeddings_arr_pca, index=tweet_embeddings.index, columns=[\"tweet_embed_\"+str(i+1) for i in range(pca.n_components)])\n",
    "embeddings_df"
   ]
  },
  {
   "cell_type": "code",
   "execution_count": 68,
   "metadata": {},
   "outputs": [],
   "source": [
    "# solo evaluaremos en los datos donde han habido tweets\n",
    "ts_with_tweets = data.loc[data.index.isin(tweets_per_day.index)]\n",
    "# y evaluamos de la misma manera que antes\n",
    "cutoff_point = ts_with_tweets.iloc[-int(len(ts_with_tweets) * 0.15)].time_step\n",
    "train_df, test_df = ts_with_tweets[ts_with_tweets.time_step < cutoff_point], ts_with_tweets[ts_with_tweets.time_step >= cutoff_point]\n",
    "X_train, y_train = train_df.drop(columns=[\"time_step\",\"Target\"]), train_df.Target\n",
    "X_test, y_test = test_df.drop(columns=[\"time_step\",\"Target\"]), test_df.Target"
   ]
  },
  {
   "cell_type": "code",
   "execution_count": 69,
   "metadata": {},
   "outputs": [
    {
     "name": "stdout",
     "output_type": "stream",
     "text": [
      "F1 score: 0.521\n"
     ]
    }
   ],
   "source": [
    "# sin extras\n",
    "mod.fit(X_train, y_train)\n",
    "preds = mod.predict(X_test)\n",
    "print(f\"F1 score: {f1_score(y_test, preds):.3f}\")"
   ]
  },
  {
   "cell_type": "code",
   "execution_count": 70,
   "metadata": {},
   "outputs": [
    {
     "name": "stdout",
     "output_type": "stream",
     "text": [
      "F1 score: 0.535\n"
     ]
    }
   ],
   "source": [
    "# solo con variables extra \n",
    "feature_cols = [\"Open\"]\n",
    "train_features = features.make_features(X_train, feature_cols, **features_args).filter(regex=filter)\n",
    "test_features = features.make_features(X_test, feature_cols, **features_args).filter(regex=filter)\n",
    "\n",
    "mod.fit(train_features, y_train.loc[train_features.index])\n",
    "preds = mod.predict(test_features)\n",
    "print(f\"F1 score: {f1_score(y_test.loc[test_features.index], preds):.3f}\")"
   ]
  },
  {
   "cell_type": "code",
   "execution_count": 71,
   "metadata": {},
   "outputs": [
    {
     "name": "stdout",
     "output_type": "stream",
     "text": [
      "Numero de features: (957, 10)\n",
      "F1 score: 0.542\n"
     ]
    }
   ],
   "source": [
    "# solo con word embeddings\n",
    "train_features = embeddings_df.loc[embeddings_df.index.isin(X_train.index)]\n",
    "test_features = embeddings_df.loc[embeddings_df.index.isin(X_test.index)]\n",
    "print(\"Numero de features:\", train_features.shape)\n",
    "\n",
    "# ver como mejora con los embeddings\n",
    "mod.fit(train_features, y_train.loc[train_features.index])\n",
    "preds = mod.predict(test_features)\n",
    "print(f\"F1 score: {f1_score(y_test.loc[test_features.index], preds):.3f}\")"
   ]
  },
  {
   "cell_type": "code",
   "execution_count": 73,
   "metadata": {},
   "outputs": [
    {
     "name": "stdout",
     "output_type": "stream",
     "text": [
      "Numero de features: (928, 30)\n",
      "F1 score: 0.584\n"
     ]
    }
   ],
   "source": [
    "# con variables extra + word embeddings\n",
    "train_features = features.make_features(X_train, feature_cols, **features_args).filter(regex=filter)\n",
    "test_features = features.make_features(X_test, feature_cols, **features_args).filter(regex=filter)\n",
    "train_features_embed = train_features.join(embeddings_df)\n",
    "test_features_embed = test_features.join(embeddings_df)\n",
    "\n",
    "print(\"Numero de features:\", train_features_embed.shape)\n",
    "# ver como mejora con los embeddings\n",
    "mod.fit(train_features_embed, y_train.loc[train_features_embed.index])\n",
    "preds = mod.predict(test_features_embed)\n",
    "print(f\"F1 score: {f1_score(y_test.loc[test_features_embed.index], preds):.3f}\")"
   ]
  },
  {
   "cell_type": "code",
   "execution_count": 74,
   "metadata": {},
   "outputs": [
    {
     "name": "stdout",
     "output_type": "stream",
     "text": [
      "Numero de features: (928, 36)\n",
      "F1 score: 0.630\n"
     ]
    }
   ],
   "source": [
    "# con variables extra + word embeddings + variables basadas en numero de tweets y tokens\n",
    "tweets_features = tweets_per_day[[\"num_tweets\",\"num_tokens\"]].copy()\n",
    "tweets_features[\"num_tweets_lag_3\"] = tweets_per_day.num_tweets.shift(3)\n",
    "tweets_features[\"num_tweets_lag_7\"] = tweets_per_day.num_tweets.shift(7)\n",
    "tweets_features[\"num_tokens_lag_3\"] = tweets_per_day.num_tokens.shift(3)\n",
    "tweets_features[\"num_tokens_lag_7\"] = tweets_per_day.num_tokens.shift(7)\n",
    "tweets_features = tweets_features.dropna()\n",
    "\n",
    "train_features = features.make_features(X_train, feature_cols, **features_args).filter(regex=filter)\n",
    "test_features = features.make_features(X_test, feature_cols, **features_args).filter(regex=filter)\n",
    "\n",
    "train_features_embed = train_features.join(embeddings_df).join(tweets_features).dropna()\n",
    "test_features_embed = test_features.join(embeddings_df).join(tweets_features).dropna()\n",
    "\n",
    "print(\"Numero de features:\", train_features_embed.shape)\n",
    "# ver como mejora con los embeddings\n",
    "mod.fit(train_features_embed, y_train.loc[train_features_embed.index])\n",
    "preds = mod.predict(test_features_embed)\n",
    "print(f\"F1 score: {f1_score(y_test.loc[test_features_embed.index], preds):.3f}\")"
   ]
  },
  {
   "cell_type": "code",
   "execution_count": 75,
   "metadata": {},
   "outputs": [
    {
     "name": "stderr",
     "output_type": "stream",
     "text": [
      "LightGBM binary classifier with TreeExplainer shap values output has changed to a list of ndarray\n"
     ]
    },
    {
     "data": {
      "image/png": "[encoded data removed]",
      "text/plain": [
       "<Figure size 576x684 with 1 Axes>"
      ]
     },
     "metadata": {
      "needs_background": "light"
     },
     "output_type": "display_data"
    }
   ],
   "source": [
    "# importancia de cada variable con shap\n",
    "shap_values = shap.TreeExplainer(mod).shap_values(test_features_embed)\n",
    "shap.summary_plot(shap_values, test_features_embed)"
   ]
  },
  {
   "cell_type": "code",
   "execution_count": 76,
   "metadata": {},
   "outputs": [
    {
     "data": {
      "text/plain": [
       "LGBMClassifier(colsample_bytree=0.8, learning_rate=0.05, max_depth=7,\n",
       "               n_estimators=500, num_leaves=32, random_state=42, subsample=0.8)"
      ]
     },
     "execution_count": 76,
     "metadata": {},
     "output_type": "execute_result"
    }
   ],
   "source": [
    "# Volver a fitear con todos los datos (entrenamiento + test)\n",
    "features_embed = pd.concat([train_features_embed, test_features_embed], axis=0)\n",
    "y = pd.concat([y_train, y_test], axis=0)\n",
    "mod.fit(features_embed, y.loc[features_embed.index])"
   ]
  },
  {
   "cell_type": "markdown",
   "metadata": {},
   "source": [
    "------"
   ]
  },
  {
   "cell_type": "markdown",
   "metadata": {},
   "source": [
    "Prediccion Final de Entrega:"
   ]
  },
  {
   "cell_type": "code",
   "execution_count": 79,
   "metadata": {},
   "outputs": [],
   "source": [
    "test_x = (\n",
    "    pd.read_csv(\"data/test_x.csv\")\n",
    "    .astype({\"Date\": \"datetime64[ns]\"})\n",
    "    .sort_values(by=[\"Date\"])\n",
    "    .reset_index()\n",
    "    .rename(columns={\"index\": \"time_step\", \"Date\":\"date\"})\n",
    "    .set_index(\"date\")\n",
    "    .resample(\"D\").mean() # ya esta por dia pero hacemos esto para que no haya problemas con los indices\n",
    "    .dropna(how=\"all\")\n",
    ")\n",
    "# crear features del conjunto de entrega\n",
    "feature_cols = [\"Open\"]\n",
    "full_df = pd.concat([data, test_x.drop(columns=[\"test_index\"])], axis=0).drop(columns=[\"Target\",\"time_step\"])\n",
    "full_df_features = features.make_features(full_df, feature_cols, **features_args).filter(regex=filter)\n",
    "full_features_embed = full_df_features.join(embeddings_df).join(tweets_features).dropna()\n",
    "X_entrega = full_features_embed.loc[full_features_embed.index.isin(test_x.index)]\n",
    "# predecir\n",
    "pred_entrega = mod.predict(X_entrega)"
   ]
  },
  {
   "cell_type": "code",
   "execution_count": 80,
   "metadata": {},
   "outputs": [
    {
     "data": {
      "text/html": [
       "<div>\n",
       "<style scoped>\n",
       "    .dataframe tbody tr th:only-of-type {\n",
       "        vertical-align: middle;\n",
       "    }\n",
       "\n",
       "    .dataframe tbody tr th {\n",
       "        vertical-align: top;\n",
       "    }\n",
       "\n",
       "    .dataframe thead th {\n",
       "        text-align: right;\n",
       "    }\n",
       "</style>\n",
       "<table border=\"1\" class=\"dataframe\">\n",
       "  <thead>\n",
       "    <tr style=\"text-align: right;\">\n",
       "      <th></th>\n",
       "      <th>Target</th>\n",
       "    </tr>\n",
       "    <tr>\n",
       "      <th>test_index</th>\n",
       "      <th></th>\n",
       "    </tr>\n",
       "  </thead>\n",
       "  <tbody>\n",
       "    <tr>\n",
       "      <th>6557</th>\n",
       "      <td>0</td>\n",
       "    </tr>\n",
       "    <tr>\n",
       "      <th>6558</th>\n",
       "      <td>0</td>\n",
       "    </tr>\n",
       "    <tr>\n",
       "      <th>6559</th>\n",
       "      <td>0</td>\n",
       "    </tr>\n",
       "    <tr>\n",
       "      <th>6560</th>\n",
       "      <td>0</td>\n",
       "    </tr>\n",
       "    <tr>\n",
       "      <th>6561</th>\n",
       "      <td>0</td>\n",
       "    </tr>\n",
       "    <tr>\n",
       "      <th>...</th>\n",
       "      <td>...</td>\n",
       "    </tr>\n",
       "    <tr>\n",
       "      <th>7278</th>\n",
       "      <td>1</td>\n",
       "    </tr>\n",
       "    <tr>\n",
       "      <th>7279</th>\n",
       "      <td>1</td>\n",
       "    </tr>\n",
       "    <tr>\n",
       "      <th>7280</th>\n",
       "      <td>1</td>\n",
       "    </tr>\n",
       "    <tr>\n",
       "      <th>7281</th>\n",
       "      <td>1</td>\n",
       "    </tr>\n",
       "    <tr>\n",
       "      <th>7282</th>\n",
       "      <td>1</td>\n",
       "    </tr>\n",
       "  </tbody>\n",
       "</table>\n",
       "<p>726 rows × 1 columns</p>\n",
       "</div>"
      ],
      "text/plain": [
       "            Target\n",
       "test_index        \n",
       "6557             0\n",
       "6558             0\n",
       "6559             0\n",
       "6560             0\n",
       "6561             0\n",
       "...            ...\n",
       "7278             1\n",
       "7279             1\n",
       "7280             1\n",
       "7281             1\n",
       "7282             1\n",
       "\n",
       "[726 rows x 1 columns]"
      ]
     },
     "execution_count": 80,
     "metadata": {},
     "output_type": "execute_result"
    }
   ],
   "source": [
    "entrega_df = pd.DataFrame({\"test_index\": test_x.test_index, \"Target\": pred_entrega}).astype(int).set_index(\"test_index\")\n",
    "entrega_df"
   ]
  },
  {
   "cell_type": "code",
   "execution_count": 51,
   "metadata": {},
   "outputs": [],
   "source": [
    "# guardar predicciones como csv y como json\n",
    "entrega_df.to_csv(\"predictions.csv\", index=True)\n",
    "entrega_df.to_json(\"predictions.json\")"
   ]
  },
  {
   "cell_type": "code",
   "execution_count": null,
   "metadata": {},
   "outputs": [
    {
     "name": "stderr",
     "output_type": "stream",
     "text": [
      "LightGBM binary classifier with TreeExplainer shap values output has changed to a list of ndarray\n"
     ]
    },
    {
     "data": {
      "image/png": "[encoded data removed]",
      "text/plain": [
       "<Figure size 576x684 with 1 Axes>"
      ]
     },
     "metadata": {},
     "output_type": "display_data"
    }
   ],
   "source": [
    "# importancia de cada variable con shap\n",
    "shap_values = shap.TreeExplainer(mod).shap_values(X_entrega)\n",
    "shap.summary_plot(shap_values, X_entrega)"
   ]
  }
 ],
 "metadata": {
  "interpreter": {
   "hash": "0caf1c4cc81db2de4276422a3d0d57043e8139ed90503bf6ef2d41acab7c32bb"
  },
  "kernelspec": {
   "display_name": "Python 3.9.13 ('caixahack')",
   "language": "python",
   "name": "python3"
  },
  "language_info": {
   "codemirror_mode": {
    "name": "ipython",
    "version": 3
   },
   "file_extension": ".py",
   "mimetype": "text/x-python",
   "name": "python",
   "nbconvert_exporter": "python",
   "pygments_lexer": "ipython3",
   "version": "3.9.13"
  },
  "orig_nbformat": 4
 },
 "nbformat": 4,
 "nbformat_minor": 2
}
